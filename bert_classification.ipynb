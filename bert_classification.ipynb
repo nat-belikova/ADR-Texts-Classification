{
 "cells": [
  {
   "cell_type": "code",
   "execution_count": 1,
   "metadata": {
    "execution": {
     "iopub.execute_input": "2022-04-13T12:22:31.544647Z",
     "iopub.status.busy": "2022-04-13T12:22:31.543950Z",
     "iopub.status.idle": "2022-04-13T12:23:32.940607Z",
     "shell.execute_reply": "2022-04-13T12:23:32.939804Z",
     "shell.execute_reply.started": "2022-04-13T12:22:31.544532Z"
    }
   },
   "outputs": [],
   "source": [
    "!pip install --upgrade torch"
   ]
  },
  {
   "cell_type": "code",
   "execution_count": 2,
   "metadata": {
    "_cell_guid": "b1076dfc-b9ad-4769-8c92-a6c4dae69d19",
    "_uuid": "8f2839f25d086af736a60e9eeb907d3b93b6e0e5",
    "execution": {
     "iopub.execute_input": "2022-04-13T12:23:32.943637Z",
     "iopub.status.busy": "2022-04-13T12:23:32.943060Z",
     "iopub.status.idle": "2022-04-13T12:23:38.801664Z",
     "shell.execute_reply": "2022-04-13T12:23:38.798257Z",
     "shell.execute_reply.started": "2022-04-13T12:23:32.943600Z"
    }
   },
   "outputs": [],
   "source": [
    "from collections import defaultdict\n",
    "import pandas as pd\n",
    "import numpy as np\n",
    "import matplotlib.pyplot as plt\n",
    "\n",
    "from sklearn.metrics import f1_score\n",
    "\n",
    "import torch\n",
    "import torch.nn as nn\n",
    "import torch.nn.functional as F\n",
    "from torch.utils.data import Dataset, DataLoader\n",
    "from torch.optim import AdamW\n",
    "\n",
    "from transformers import AutoTokenizer, BertForSequenceClassification, get_linear_schedule_with_warmup"
   ]
  },
  {
   "cell_type": "code",
   "execution_count": 3,
   "metadata": {
    "execution": {
     "iopub.execute_input": "2022-04-13T12:23:38.808068Z",
     "iopub.status.busy": "2022-04-13T12:23:38.804603Z",
     "iopub.status.idle": "2022-04-13T12:23:38.985603Z",
     "shell.execute_reply": "2022-04-13T12:23:38.984872Z",
     "shell.execute_reply.started": "2022-04-13T12:23:38.808027Z"
    }
   },
   "outputs": [],
   "source": [
    "train = pd.read_csv('../input/classification/train.tsv', sep='\\t', index_col='tweet_id')\n",
    "dev = pd.read_csv('../input/classification/dev.tsv', sep='\\t', index_col='tweet_id')\n",
    "test = pd.read_csv('../input/classification/test.tsv', sep='\\t', index_col='tweet_id')"
   ]
  },
  {
   "cell_type": "code",
   "execution_count": 4,
   "metadata": {
    "execution": {
     "iopub.execute_input": "2022-04-13T12:23:38.989442Z",
     "iopub.status.busy": "2022-04-13T12:23:38.989233Z",
     "iopub.status.idle": "2022-04-13T12:23:39.780284Z",
     "shell.execute_reply": "2022-04-13T12:23:39.779462Z",
     "shell.execute_reply.started": "2022-04-13T12:23:38.989418Z"
    }
   },
   "outputs": [],
   "source": [
    "# PRE_TRAINED_MODEL_NAME = 'DeepPavlov/rubert-base-cased-conversational'\n",
    "PRE_TRAINED_MODEL_NAME = 'cimm-kzn/enrudr-bert'\n",
    "\n",
    "DEVICE = 'cuda:0' if torch.cuda.is_available() else 'cpu'\n",
    "\n",
    "MAX_LEN = 128\n",
    "BATCH_SIZE = 32\n",
    "EPOCHS = 5\n",
    "LR = 3e-5\n",
    "LABEL_SMOOTHING = 0.2\n",
    "\n",
    "DEVICE"
   ]
  },
  {
   "cell_type": "code",
   "execution_count": 5,
   "metadata": {
    "execution": {
     "iopub.execute_input": "2022-04-13T12:23:39.783129Z",
     "iopub.status.busy": "2022-04-13T12:23:39.781652Z",
     "iopub.status.idle": "2022-04-13T12:24:30.470011Z",
     "shell.execute_reply": "2022-04-13T12:24:30.469232Z",
     "shell.execute_reply.started": "2022-04-13T12:23:39.783093Z"
    }
   },
   "outputs": [],
   "source": [
    "tokenizer = AutoTokenizer.from_pretrained(PRE_TRAINED_MODEL_NAME)\n",
    "model = BertForSequenceClassification.from_pretrained(PRE_TRAINED_MODEL_NAME)"
   ]
  },
  {
   "cell_type": "code",
   "execution_count": 6,
   "metadata": {
    "execution": {
     "iopub.execute_input": "2022-04-13T12:24:30.471629Z",
     "iopub.status.busy": "2022-04-13T12:24:30.471286Z",
     "iopub.status.idle": "2022-04-13T12:24:30.480242Z",
     "shell.execute_reply": "2022-04-13T12:24:30.479439Z",
     "shell.execute_reply.started": "2022-04-13T12:24:30.471592Z"
    }
   },
   "outputs": [],
   "source": [
    "class TweetDataset(Dataset):\n",
    "\n",
    "    def __init__(self, df, tokenizer, max_len):\n",
    "        self.tweets = df['tweet'].tolist()\n",
    "        self.labels = df['label'].tolist()\n",
    "        self.tokenizer = tokenizer\n",
    "        self.max_len = max_len\n",
    "  \n",
    "    def __len__(self):\n",
    "        return len(self.tweets)\n",
    "  \n",
    "    def __getitem__(self, item):\n",
    "        tweet = self.tweets[item]\n",
    "        label = self.labels[item]\n",
    "\n",
    "        encoding = self.tokenizer.encode_plus(\n",
    "            tweet,\n",
    "            add_special_tokens=True,\n",
    "            max_length=self.max_len,\n",
    "            truncation=True,\n",
    "            padding='max_length',\n",
    "            return_token_type_ids=False,\n",
    "            return_attention_mask=True,\n",
    "            return_tensors='pt',\n",
    "            )\n",
    "\n",
    "        return {\n",
    "            'tweet': tweet,\n",
    "            'input_ids': encoding['input_ids'].flatten(),\n",
    "            'attention_mask': encoding['attention_mask'].flatten(),\n",
    "            'label': torch.tensor(label, dtype=torch.long)\n",
    "            }"
   ]
  },
  {
   "cell_type": "code",
   "execution_count": 7,
   "metadata": {
    "execution": {
     "iopub.execute_input": "2022-04-13T12:24:30.482138Z",
     "iopub.status.busy": "2022-04-13T12:24:30.481457Z",
     "iopub.status.idle": "2022-04-13T12:24:30.494609Z",
     "shell.execute_reply": "2022-04-13T12:24:30.493856Z",
     "shell.execute_reply.started": "2022-04-13T12:24:30.482103Z"
    }
   },
   "outputs": [],
   "source": [
    "def create_data_loader(df, tokenizer, max_len, batch_size):\n",
    "    ds = TweetDataset(\n",
    "        df,\n",
    "        tokenizer=tokenizer,\n",
    "        max_len=max_len\n",
    "        )\n",
    "    \n",
    "    return DataLoader(\n",
    "        ds,\n",
    "        batch_size=batch_size,\n",
    "        #num_workers=4\n",
    "        )"
   ]
  },
  {
   "cell_type": "code",
   "execution_count": 8,
   "metadata": {
    "execution": {
     "iopub.execute_input": "2022-04-13T12:24:30.496669Z",
     "iopub.status.busy": "2022-04-13T12:24:30.496101Z",
     "iopub.status.idle": "2022-04-13T12:24:30.508586Z",
     "shell.execute_reply": "2022-04-13T12:24:30.507918Z",
     "shell.execute_reply.started": "2022-04-13T12:24:30.496633Z"
    }
   },
   "outputs": [],
   "source": [
    "train_data_loader = create_data_loader(train, tokenizer, MAX_LEN, BATCH_SIZE)\n",
    "val_data_loader = create_data_loader(dev, tokenizer, MAX_LEN, BATCH_SIZE)\n",
    "test_data_loader = create_data_loader(test, tokenizer, MAX_LEN, BATCH_SIZE)"
   ]
  },
  {
   "cell_type": "code",
   "execution_count": 9,
   "metadata": {
    "execution": {
     "iopub.execute_input": "2022-04-13T12:24:30.511350Z",
     "iopub.status.busy": "2022-04-13T12:24:30.510079Z",
     "iopub.status.idle": "2022-04-13T12:24:32.996067Z",
     "shell.execute_reply": "2022-04-13T12:24:32.995269Z",
     "shell.execute_reply.started": "2022-04-13T12:24:30.511313Z"
    }
   },
   "outputs": [],
   "source": [
    "model.to(DEVICE);"
   ]
  },
  {
   "cell_type": "code",
   "execution_count": 10,
   "metadata": {
    "execution": {
     "iopub.execute_input": "2022-04-13T12:24:32.998939Z",
     "iopub.status.busy": "2022-04-13T12:24:32.998683Z",
     "iopub.status.idle": "2022-04-13T12:24:33.005881Z",
     "shell.execute_reply": "2022-04-13T12:24:33.005232Z",
     "shell.execute_reply.started": "2022-04-13T12:24:32.998905Z"
    }
   },
   "outputs": [],
   "source": [
    "optimizer = AdamW(model.parameters(), lr=LR)\n",
    "total_steps = len(train_data_loader) * EPOCHS\n",
    "\n",
    "scheduler = get_linear_schedule_with_warmup(\n",
    "  optimizer,\n",
    "  num_warmup_steps=int(0.1 * total_steps),\n",
    "  num_training_steps=total_steps\n",
    ")\n",
    "\n",
    "loss_fn = nn.CrossEntropyLoss(label_smoothing=LABEL_SMOOTHING).to(DEVICE)"
   ]
  },
  {
   "cell_type": "code",
   "execution_count": 22,
   "metadata": {
    "execution": {
     "iopub.execute_input": "2022-04-13T12:29:22.836933Z",
     "iopub.status.busy": "2022-04-13T12:29:22.836660Z",
     "iopub.status.idle": "2022-04-13T12:29:22.845566Z",
     "shell.execute_reply": "2022-04-13T12:29:22.844859Z",
     "shell.execute_reply.started": "2022-04-13T12:29:22.836904Z"
    }
   },
   "outputs": [],
   "source": [
    "def train_epoch(\n",
    "  model, \n",
    "  data_loader, \n",
    "  loss_fn, \n",
    "  optimizer, \n",
    "  device, \n",
    "  scheduler, \n",
    "  n_examples\n",
    "):\n",
    "    model = model.train()\n",
    "    \n",
    "    losses = []\n",
    "    predictions = []\n",
    "    labels = []\n",
    "    \n",
    "    for d in data_loader:\n",
    "        input_ids = d[\"input_ids\"].to(device)\n",
    "        attention_mask = d[\"attention_mask\"].to(device)\n",
    "        targets = d[\"label\"].to(device)\n",
    "\n",
    "        outputs = model(input_ids=input_ids, attention_mask=attention_mask).logits\n",
    "\n",
    "        preds = torch.argmax(outputs, dim=1)\n",
    "        loss = loss_fn(outputs, targets)\n",
    "        \n",
    "        predictions.extend(preds.cpu())\n",
    "        labels.extend(d['label'])\n",
    "        losses.append(loss.item())\n",
    "\n",
    "        loss.backward()\n",
    "        nn.utils.clip_grad_norm_(model.parameters(), max_norm=1.0)\n",
    "        optimizer.step()\n",
    "        scheduler.step()\n",
    "        optimizer.zero_grad()\n",
    "        \n",
    "    f1 = f1_score(labels, predictions, zero_division=0)\n",
    "\n",
    "    return f1, np.mean(losses)"
   ]
  },
  {
   "cell_type": "code",
   "execution_count": 23,
   "metadata": {
    "execution": {
     "iopub.execute_input": "2022-04-13T12:29:27.490578Z",
     "iopub.status.busy": "2022-04-13T12:29:27.490003Z",
     "iopub.status.idle": "2022-04-13T12:29:27.498362Z",
     "shell.execute_reply": "2022-04-13T12:29:27.497439Z",
     "shell.execute_reply.started": "2022-04-13T12:29:27.490536Z"
    }
   },
   "outputs": [],
   "source": [
    "def eval_model(model, data_loader, loss_fn, device, n_examples):\n",
    "    model = model.eval()\n",
    "\n",
    "    losses = []\n",
    "    predictions = []\n",
    "    labels = []\n",
    "\n",
    "    with torch.no_grad():\n",
    "        for d in data_loader:\n",
    "            input_ids = d[\"input_ids\"].to(device)\n",
    "            attention_mask = d[\"attention_mask\"].to(device)\n",
    "            targets = d[\"label\"].to(device)\n",
    "\n",
    "            outputs = model(input_ids=input_ids, attention_mask=attention_mask).logits\n",
    "            preds = torch.argmax(outputs, dim=1)\n",
    "\n",
    "            loss = loss_fn(outputs, targets)\n",
    "            \n",
    "            predictions.extend(preds.cpu())\n",
    "            labels.extend(d['label'])\n",
    "            losses.append(loss.item())\n",
    "            \n",
    "    f1 = f1_score(labels, predictions, zero_division=0)\n",
    "\n",
    "    return f1, np.mean(losses)"
   ]
  },
  {
   "cell_type": "code",
   "execution_count": 24,
   "metadata": {
    "execution": {
     "iopub.execute_input": "2022-04-13T12:29:29.612807Z",
     "iopub.status.busy": "2022-04-13T12:29:29.612282Z",
     "iopub.status.idle": "2022-04-13T12:30:10.286754Z",
     "shell.execute_reply": "2022-04-13T12:30:10.285958Z",
     "shell.execute_reply.started": "2022-04-13T12:29:29.612766Z"
    }
   },
   "outputs": [],
   "source": [
    "%%time\n",
    "\n",
    "history = defaultdict(list)\n",
    "best_f1 = 0\n",
    "\n",
    "for epoch in range(EPOCHS):\n",
    "\n",
    "    print(f'Epoch {epoch + 1}/{EPOCHS}')\n",
    "    print('-' * 10)\n",
    "\n",
    "    train_f1, train_loss = train_epoch(\n",
    "        model,\n",
    "        train_data_loader,    \n",
    "        loss_fn, \n",
    "        optimizer, \n",
    "        DEVICE, \n",
    "        scheduler, \n",
    "        len(train)\n",
    "        )\n",
    "\n",
    "    print(f'Train loss {train_loss} f1_score {train_f1}')\n",
    "\n",
    "    val_f1, val_loss = eval_model(\n",
    "        model,\n",
    "        val_data_loader,\n",
    "        loss_fn, \n",
    "        DEVICE, \n",
    "        len(dev)\n",
    "        )\n",
    "\n",
    "    print(f'Val   loss {val_loss} f1_score {val_f1}')\n",
    "    print()\n",
    "\n",
    "    history['train_f1'].append(train_f1)\n",
    "    history['train_loss'].append(train_loss)\n",
    "    history['val_f1'].append(val_f1)\n",
    "    history['val_loss'].append(val_loss)\n",
    "\n",
    "    if val_f1 > best_f1:\n",
    "        torch.save(model.state_dict(), 'model_state.bin')\n",
    "        best_f1 = val_f1"
   ]
  },
  {
   "cell_type": "code",
   "execution_count": 25,
   "metadata": {
    "execution": {
     "iopub.execute_input": "2022-04-13T12:30:18.996042Z",
     "iopub.status.busy": "2022-04-13T12:30:18.995787Z",
     "iopub.status.idle": "2022-04-13T12:30:19.193966Z",
     "shell.execute_reply": "2022-04-13T12:30:19.193272Z",
     "shell.execute_reply.started": "2022-04-13T12:30:18.996014Z"
    }
   },
   "outputs": [],
   "source": [
    "plt.plot(history['train_f1'], label='train f1 score')\n",
    "plt.plot(history['val_f1'], label='validation f1 score')\n",
    "\n",
    "plt.title('Training history')\n",
    "plt.ylabel('F1 score')\n",
    "plt.xlabel('Epoch')\n",
    "plt.legend()\n",
    "plt.ylim([0, 1]);"
   ]
  },
  {
   "cell_type": "code",
   "execution_count": 27,
   "metadata": {
    "execution": {
     "iopub.execute_input": "2022-04-13T12:31:08.306584Z",
     "iopub.status.busy": "2022-04-13T12:31:08.306314Z",
     "iopub.status.idle": "2022-04-13T12:31:08.352593Z",
     "shell.execute_reply": "2022-04-13T12:31:08.351423Z",
     "shell.execute_reply.started": "2022-04-13T12:31:08.306555Z"
    }
   },
   "outputs": [],
   "source": [
    "model.load_state_dict(torch.load('model_state.bin'))\n",
    "model = model.to(DEVICE)"
   ]
  },
  {
   "cell_type": "code",
   "execution_count": null,
   "metadata": {
    "execution": {
     "iopub.status.busy": "2022-04-13T12:25:10.872093Z",
     "iopub.status.idle": "2022-04-13T12:25:10.872933Z",
     "shell.execute_reply": "2022-04-13T12:25:10.872718Z",
     "shell.execute_reply.started": "2022-04-13T12:25:10.872691Z"
    }
   },
   "outputs": [],
   "source": [
    "def get_predictions(model, data_loader, device):\n",
    "    model = model.eval()\n",
    "  \n",
    "    predictions = []\n",
    "\n",
    "    with torch.no_grad():\n",
    "        for d in data_loader:\n",
    "            \n",
    "            input_ids = d[\"input_ids\"].to(device)\n",
    "            attention_mask = d[\"attention_mask\"].to(device)\n",
    "            targets = d[\"label\"].to(device)\n",
    "        \n",
    "            outputs = model(input_ids=input_ids, attention_mask=attention_mask).logits\n",
    "            preds = torch.argmax(outputs, dim=1)\n",
    "\n",
    "            predictions.extend(preds)\n",
    "\n",
    "        predictions = torch.stack(predictions).cpu()\n",
    "\n",
    "    return predictions"
   ]
  },
  {
   "cell_type": "code",
   "execution_count": null,
   "metadata": {
    "execution": {
     "iopub.status.busy": "2022-04-13T12:25:10.873926Z",
     "iopub.status.idle": "2022-04-13T12:25:10.874665Z",
     "shell.execute_reply": "2022-04-13T12:25:10.874450Z",
     "shell.execute_reply.started": "2022-04-13T12:25:10.874427Z"
    }
   },
   "outputs": [],
   "source": [
    "y_test = get_predictions(\n",
    "  model,\n",
    "  test_data_loader,\n",
    "  DEVICE\n",
    ")"
   ]
  },
  {
   "cell_type": "code",
   "execution_count": null,
   "metadata": {
    "execution": {
     "iopub.status.busy": "2022-04-13T12:25:10.875724Z",
     "iopub.status.idle": "2022-04-13T12:25:10.876477Z",
     "shell.execute_reply": "2022-04-13T12:25:10.876251Z",
     "shell.execute_reply.started": "2022-04-13T12:25:10.876227Z"
    }
   },
   "outputs": [],
   "source": [
    "f1_score(test['label'], y_test)"
   ]
  },
  {
   "cell_type": "code",
   "execution_count": null,
   "metadata": {
    "execution": {
     "iopub.status.busy": "2022-04-13T12:25:10.877620Z",
     "iopub.status.idle": "2022-04-13T12:25:10.878372Z",
     "shell.execute_reply": "2022-04-13T12:25:10.878148Z",
     "shell.execute_reply.started": "2022-04-13T12:25:10.878123Z"
    }
   },
   "outputs": [],
   "source": [
    "test['pred'] = y_test\n",
    "test.to_csv('predictions.tsv', sep='\\t')"
   ]
  }
 ],
 "metadata": {
  "kernelspec": {
   "display_name": "Python 3 (ipykernel)",
   "language": "python",
   "name": "python3"
  },
  "language_info": {
   "codemirror_mode": {
    "name": "ipython",
    "version": 3
   },
   "file_extension": ".py",
   "mimetype": "text/x-python",
   "name": "python",
   "nbconvert_exporter": "python",
   "pygments_lexer": "ipython3",
   "version": "3.8.5"
  }
 },
 "nbformat": 4,
 "nbformat_minor": 4
}
