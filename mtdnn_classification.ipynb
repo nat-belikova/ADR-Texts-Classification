{
 "cells": [
  {
   "cell_type": "markdown",
   "metadata": {},
   "source": [
    "#### Installation"
   ]
  },
  {
   "cell_type": "code",
   "execution_count": 1,
   "metadata": {
    "execution": {
     "iopub.execute_input": "2022-05-03T15:42:24.698629Z",
     "iopub.status.busy": "2022-05-03T15:42:24.698309Z",
     "iopub.status.idle": "2022-05-03T15:42:25.700758Z",
     "shell.execute_reply": "2022-05-03T15:42:25.699870Z",
     "shell.execute_reply.started": "2022-05-03T15:42:24.698535Z"
    }
   },
   "outputs": [],
   "source": [
    "!cp -r ../input/mtdnn0502/MT-DNN MT-DNN"
   ]
  },
  {
   "cell_type": "code",
   "execution_count": 2,
   "metadata": {
    "execution": {
     "iopub.execute_input": "2022-05-03T15:42:25.704417Z",
     "iopub.status.busy": "2022-05-03T15:42:25.704198Z",
     "iopub.status.idle": "2022-05-03T15:44:02.216408Z",
     "shell.execute_reply": "2022-05-03T15:44:02.215624Z",
     "shell.execute_reply.started": "2022-05-03T15:42:25.704391Z"
    }
   },
   "outputs": [],
   "source": [
    "!pip install -e MT-DNN\n",
    "!pip list | grep mtdnn"
   ]
  },
  {
   "cell_type": "code",
   "execution_count": 3,
   "metadata": {
    "execution": {
     "iopub.execute_input": "2022-05-03T15:44:02.219766Z",
     "iopub.status.busy": "2022-05-03T15:44:02.219394Z",
     "iopub.status.idle": "2022-05-03T15:44:02.229601Z",
     "shell.execute_reply": "2022-05-03T15:44:02.228887Z",
     "shell.execute_reply.started": "2022-05-03T15:44:02.219716Z"
    }
   },
   "outputs": [],
   "source": [
    "import sys, os\n",
    "sys.path.append('MT-DNN')\n",
    "sys.path"
   ]
  },
  {
   "cell_type": "code",
   "execution_count": 4,
   "metadata": {
    "execution": {
     "iopub.execute_input": "2022-05-03T15:44:02.233140Z",
     "iopub.status.busy": "2022-05-03T15:44:02.232521Z",
     "iopub.status.idle": "2022-05-03T15:44:59.438205Z",
     "shell.execute_reply": "2022-05-03T15:44:59.437364Z",
     "shell.execute_reply.started": "2022-05-03T15:44:02.233102Z"
    }
   },
   "outputs": [],
   "source": [
    "%pip install torch==1.5.0 torchvision torchaudio torchtext"
   ]
  },
  {
   "cell_type": "code",
   "execution_count": 5,
   "metadata": {
    "execution": {
     "iopub.execute_input": "2022-05-03T15:44:59.441338Z",
     "iopub.status.busy": "2022-05-03T15:44:59.441084Z",
     "iopub.status.idle": "2022-05-03T15:45:13.294173Z",
     "shell.execute_reply": "2022-05-03T15:45:13.293309Z",
     "shell.execute_reply.started": "2022-05-03T15:44:59.441309Z"
    }
   },
   "outputs": [],
   "source": [
    "!git clone https://github.com/NVIDIA/apex\n",
    "os.chdir('apex')\n",
    "%pip install -v --disable-pip-version-check --no-cache-dir ./\n",
    "os.chdir('..')"
   ]
  },
  {
   "cell_type": "code",
   "execution_count": 6,
   "metadata": {
    "execution": {
     "iopub.execute_input": "2022-05-03T15:45:13.296044Z",
     "iopub.status.busy": "2022-05-03T15:45:13.295834Z",
     "iopub.status.idle": "2022-05-03T15:45:13.984957Z",
     "shell.execute_reply": "2022-05-03T15:45:13.984002Z",
     "shell.execute_reply.started": "2022-05-03T15:45:13.296018Z"
    }
   },
   "outputs": [],
   "source": [
    "!mkdir data"
   ]
  },
  {
   "cell_type": "code",
   "execution_count": 7,
   "metadata": {
    "execution": {
     "iopub.execute_input": "2022-05-03T15:45:13.987295Z",
     "iopub.status.busy": "2022-05-03T15:45:13.986998Z",
     "iopub.status.idle": "2022-05-03T15:45:19.886760Z",
     "shell.execute_reply": "2022-05-03T15:45:19.885577Z",
     "shell.execute_reply.started": "2022-05-03T15:45:13.987242Z"
    }
   },
   "outputs": [],
   "source": [
    "!cp -r ../input/clrusraw data/clrusraw\n",
    "!cp -r ../input/clengraw data/clengraw\n",
    "!cp -r ../input/clrusnorm data/clrusnorm\n",
    "!cp -r ../input/clengnorm data/clengnorm\n",
    "!cp -r ../input/extrus data/extrus\n",
    "!cp -r ../input/extrus data/exteng\n",
    "!cp -r ../input/extrusnorm data/extrusnorm\n",
    "!cp -r ../input/extengnorm data/extengnorm"
   ]
  },
  {
   "cell_type": "markdown",
   "metadata": {},
   "source": [
    "#### Defining the tasks and building the data"
   ]
  },
  {
   "cell_type": "code",
   "execution_count": 8,
   "metadata": {
    "execution": {
     "iopub.execute_input": "2022-05-03T15:45:19.888887Z",
     "iopub.status.busy": "2022-05-03T15:45:19.888567Z",
     "iopub.status.idle": "2022-05-03T15:45:27.541766Z",
     "shell.execute_reply": "2022-05-03T15:45:27.540850Z",
     "shell.execute_reply.started": "2022-05-03T15:45:19.888847Z"
    }
   },
   "outputs": [],
   "source": [
    "import json\n",
    "import os\n",
    "import shutil\n",
    "import sys\n",
    "from tempfile import TemporaryDirectory\n",
    "\n",
    "import pandas as pd\n",
    "import torch\n",
    "\n",
    "from mtdnn.common.types import EncoderModelType\n",
    "from mtdnn.configuration_mtdnn import MTDNNConfig\n",
    "from mtdnn.data_builder_mtdnn import MTDNNDataBuilder\n",
    "from mtdnn.modeling_mtdnn import MTDNNModel\n",
    "from mtdnn.process_mtdnn import MTDNNDataProcess\n",
    "from mtdnn.tasks.config import MTDNNTaskDefs\n",
    "from mtdnn.tokenizer_mtdnn import MTDNNTokenizer"
   ]
  },
  {
   "cell_type": "code",
   "execution_count": 9,
   "metadata": {
    "execution": {
     "iopub.execute_input": "2022-05-03T15:45:27.545391Z",
     "iopub.status.busy": "2022-05-03T15:45:27.543237Z",
     "iopub.status.idle": "2022-05-03T15:45:27.559636Z",
     "shell.execute_reply": "2022-05-03T15:45:27.557912Z",
     "shell.execute_reply.started": "2022-05-03T15:45:27.545357Z"
    }
   },
   "outputs": [],
   "source": [
    "ROOT_DIR = 'result'\n",
    "OUTPUT_DIR = os.path.join(ROOT_DIR, 'checkpoint')\n",
    "os.makedirs(OUTPUT_DIR) if not os.path.exists(OUTPUT_DIR) else OUTPUT_DIR\n",
    "\n",
    "LOG_DIR = os.path.join(ROOT_DIR, 'tensorboard_logdir')\n",
    "os.makedirs(LOG_DIR) if not os.path.exists(LOG_DIR) else LOG_DIR\n",
    "\n",
    "DATA_DIR = \"data\"\n",
    "DATA_CL_RUS = os.path.join(DATA_DIR, \"clrusraw\")\n",
    "DATA_CL_ENG = os.path.join(DATA_DIR, \"clengraw\")\n",
    "DATA_CL_RUS_NORM = os.path.join(DATA_DIR, \"clrusnorm\")\n",
    "DATA_CL_ENG_NORM = os.path.join(DATA_DIR, \"clengnorm\")\n",
    "DATA_EXT_RUS = os.path.join(DATA_DIR, \"extrus\")\n",
    "DATA_EXT_ENG = os.path.join(DATA_DIR, \"exteng\")\n",
    "DATA_EXT_RUS_NORM = os.path.join(DATA_DIR, \"extrusnorm\")\n",
    "DATA_EXT_ENG_NORM = os.path.join(DATA_DIR, \"extengnorm\")\n",
    "\n",
    "# Parameters\n",
    "PRE_TRAINED_MODEL_NAME = 'cimm-kzn/enrudr-bert'\n",
    "#PRE_TRAINED_MODEL_NAME = 'DeepPavlov/rubert-base-cased-conversational'\n",
    "\n",
    "TEST_DATASET_LIST = ['clrus']\n",
    "\n",
    "BATCH_SIZE = 32\n",
    "MAX_SEQ_LEN = 128\n",
    "NUM_EPOCHS = 5\n",
    "LR = 3e-5"
   ]
  },
  {
   "cell_type": "code",
   "execution_count": 10,
   "metadata": {
    "execution": {
     "iopub.execute_input": "2022-05-03T15:45:27.566177Z",
     "iopub.status.busy": "2022-05-03T15:45:27.565976Z",
     "iopub.status.idle": "2022-05-03T15:45:27.619651Z",
     "shell.execute_reply": "2022-05-03T15:45:27.618558Z",
     "shell.execute_reply.started": "2022-05-03T15:45:27.566142Z"
    }
   },
   "outputs": [],
   "source": [
    "config = MTDNNConfig(init_checkpoint=PRE_TRAINED_MODEL_NAME,\n",
    "                     batch_size=BATCH_SIZE, \n",
    "                     max_seq_len=MAX_SEQ_LEN,\n",
    "                     cuda=True,\n",
    "                     epochs=NUM_EPOCHS,\n",
    "                     learning_rate=LR,\n",
    "                    )"
   ]
  },
  {
   "cell_type": "code",
   "execution_count": 11,
   "metadata": {
    "execution": {
     "iopub.execute_input": "2022-05-03T15:45:27.621728Z",
     "iopub.status.busy": "2022-05-03T15:45:27.621310Z",
     "iopub.status.idle": "2022-05-03T15:45:27.637246Z",
     "shell.execute_reply": "2022-05-03T15:45:27.636558Z",
     "shell.execute_reply.started": "2022-05-03T15:45:27.621686Z"
    }
   },
   "outputs": [],
   "source": [
    "clrus_task = {\n",
    "    \"clrus\": {\n",
    "        \"data_format\": \"PremiseOnly\",\n",
    "        \"encoder_type\": \"BERT\",\n",
    "        \"dropout_p\": 0.3,\n",
    "        \"enable_san\": False,\n",
    "        \"metric_meta\": [\"F1\", 'Precision', 'Recall'],\n",
    "        \"loss\": \"CeCriterion\",\n",
    "        \"kd_loss\": \"MseCriterion\",\n",
    "        \"n_class\": 2,\n",
    "        'split_names': ['train', 'dev', 'test'],\n",
    "        \"data_process_opts\": {\"header\": True, \"is_train\": True, \"multi_snli\": False},\n",
    "        \"task_type\": \"Classification\",\n",
    "        \"data_source_dir\": DATA_CL_RUS_NORM,\n",
    "        },\n",
    "    }\n",
    "\n",
    "cleng_task = {\n",
    "    \"cleng\": {\n",
    "        \"data_format\": \"PremiseOnly\",\n",
    "        \"encoder_type\": \"BERT\",\n",
    "        \"dropout_p\": 0.3,\n",
    "        \"enable_san\": False,\n",
    "        \"metric_meta\": [\"F1\", 'Precision', 'Recall'],\n",
    "        \"loss\": \"CeCriterion\",\n",
    "        \"kd_loss\": \"MseCriterion\",\n",
    "        \"n_class\": 2,\n",
    "        'split_names': ['train'],\n",
    "        \"data_process_opts\": {\"header\": True, \"is_train\": True, \"multi_snli\": False},\n",
    "        \"task_type\": \"Classification\",\n",
    "        \"data_source_dir\": DATA_CL_ENG_NORM,\n",
    "        },\n",
    "    }\n",
    "\n",
    "extrus_task = {\n",
    "    \"extrus\": {\n",
    "        \"data_format\": \"Sequence\",\n",
    "        \"encoder_type\": \"BERT\",\n",
    "        \"dropout_p\": 0.3,\n",
    "        \"enable_san\": False,\n",
    "        \"labels\": [\"O\", \"B\", \"I\", \"X\", \"CLS\", \"SEP\"],\n",
    "        \"metric_meta\": [\"SeqEval\"],\n",
    "        \"n_class\": 6,\n",
    "        \"loss\": \"SeqCeCriterion\",\n",
    "        \"split_names\": [\"train\"],\n",
    "        \"data_process_opts\": {\"header\": False, \"is_train\": True, \"multi_snli\": False},\n",
    "        \"task_type\": \"SequenceLabeling\",\n",
    "        'data_source_dir': DATA_EXT_RUS_NORM,\n",
    "        },\n",
    "    }\n",
    "\n",
    "exteng_task = {\n",
    "    \"exteng\": {\n",
    "        \"data_format\": \"Sequence\",\n",
    "        \"encoder_type\": \"BERT\",\n",
    "        \"dropout_p\": 0.3,\n",
    "        \"enable_san\": False,\n",
    "        \"labels\": [\"O\", \"B\", \"I\", \"X\", \"CLS\", \"SEP\"],\n",
    "        \"metric_meta\": [\"SeqEval\"],\n",
    "        \"n_class\": 6,\n",
    "        \"loss\": \"SeqCeCriterion\",\n",
    "        \"split_names\": [\"train\"],\n",
    "        \"data_process_opts\": {\"header\": False, \"is_train\": True, \"multi_snli\": False},\n",
    "        \"task_type\": \"SequenceLabeling\",\n",
    "        'data_source_dir': DATA_EXT_ENG_NORM,\n",
    "        },\n",
    "    }"
   ]
  },
  {
   "cell_type": "code",
   "execution_count": 12,
   "metadata": {
    "execution": {
     "iopub.execute_input": "2022-05-03T15:45:27.639184Z",
     "iopub.status.busy": "2022-05-03T15:45:27.638794Z",
     "iopub.status.idle": "2022-05-03T15:45:27.649352Z",
     "shell.execute_reply": "2022-05-03T15:45:27.648446Z",
     "shell.execute_reply.started": "2022-05-03T15:45:27.639119Z"
    }
   },
   "outputs": [],
   "source": [
    "task_params = {}\n",
    "task_params.update(clrus_task)\n",
    "task_params.update(cleng_task)\n",
    "task_params.update(extrus_task)\n",
    "task_params.update(exteng_task)"
   ]
  },
  {
   "cell_type": "code",
   "execution_count": 13,
   "metadata": {
    "execution": {
     "iopub.execute_input": "2022-05-03T15:45:27.651363Z",
     "iopub.status.busy": "2022-05-03T15:45:27.651024Z",
     "iopub.status.idle": "2022-05-03T15:45:27.667444Z",
     "shell.execute_reply": "2022-05-03T15:45:27.666682Z",
     "shell.execute_reply.started": "2022-05-03T15:45:27.651327Z"
    }
   },
   "outputs": [],
   "source": [
    "task_defs = MTDNNTaskDefs(task_params)"
   ]
  },
  {
   "cell_type": "code",
   "execution_count": 14,
   "metadata": {
    "execution": {
     "iopub.execute_input": "2022-05-03T15:45:27.668930Z",
     "iopub.status.busy": "2022-05-03T15:45:27.668704Z",
     "iopub.status.idle": "2022-05-03T15:45:31.941414Z",
     "shell.execute_reply": "2022-05-03T15:45:31.940660Z",
     "shell.execute_reply.started": "2022-05-03T15:45:27.668899Z"
    }
   },
   "outputs": [],
   "source": [
    "tokenizer = MTDNNTokenizer(model_name=PRE_TRAINED_MODEL_NAME, do_lower_case=False)"
   ]
  },
  {
   "cell_type": "code",
   "execution_count": 16,
   "metadata": {
    "execution": {
     "iopub.execute_input": "2022-05-03T15:45:31.951810Z",
     "iopub.status.busy": "2022-05-03T15:45:31.951396Z",
     "iopub.status.idle": "2022-05-03T15:46:13.726807Z",
     "shell.execute_reply": "2022-05-03T15:46:13.726033Z",
     "shell.execute_reply.started": "2022-05-03T15:45:31.951773Z"
    }
   },
   "outputs": [],
   "source": [
    "data_builder = MTDNNDataBuilder(\n",
    "    tokenizer=tokenizer,\n",
    "    task_defs=task_defs,\n",
    "    data_dir=DATA_DIR,\n",
    "    canonical_data_suffix=\"canonical_data\",\n",
    "    dump_rows=False,\n",
    ")\n",
    "\n",
    "vectorized_data = data_builder.vectorize()"
   ]
  },
  {
   "cell_type": "code",
   "execution_count": 17,
   "metadata": {
    "execution": {
     "iopub.execute_input": "2022-05-03T15:46:13.728698Z",
     "iopub.status.busy": "2022-05-03T15:46:13.728241Z",
     "iopub.status.idle": "2022-05-03T15:46:13.801886Z",
     "shell.execute_reply": "2022-05-03T15:46:13.801006Z",
     "shell.execute_reply.started": "2022-05-03T15:46:13.728659Z"
    }
   },
   "outputs": [],
   "source": [
    "data_processor = MTDNNDataProcess(\n",
    "    config=config, task_defs=task_defs, vectorized_data=vectorized_data\n",
    ")"
   ]
  },
  {
   "cell_type": "code",
   "execution_count": 18,
   "metadata": {
    "execution": {
     "iopub.execute_input": "2022-05-03T15:46:13.803775Z",
     "iopub.status.busy": "2022-05-03T15:46:13.803261Z",
     "iopub.status.idle": "2022-05-03T15:46:13.809350Z",
     "shell.execute_reply": "2022-05-03T15:46:13.808288Z",
     "shell.execute_reply.started": "2022-05-03T15:46:13.803724Z"
    }
   },
   "outputs": [],
   "source": [
    "multitask_train_dataloader = data_processor.get_train_dataloader()\n",
    "dev_dataloaders_list = data_processor.get_dev_dataloaders()\n",
    "test_dataloaders_list = data_processor.get_test_dataloaders()"
   ]
  },
  {
   "cell_type": "code",
   "execution_count": 19,
   "metadata": {
    "execution": {
     "iopub.execute_input": "2022-05-03T15:46:13.811636Z",
     "iopub.status.busy": "2022-05-03T15:46:13.811101Z",
     "iopub.status.idle": "2022-05-03T15:46:13.818023Z",
     "shell.execute_reply": "2022-05-03T15:46:13.817099Z",
     "shell.execute_reply.started": "2022-05-03T15:46:13.811561Z"
    }
   },
   "outputs": [],
   "source": [
    "decoder_opts = data_processor.get_decoder_options_list()\n",
    "task_types = data_processor.get_task_types_list()\n",
    "dropout_list = data_processor.get_tasks_dropout_prob_list()\n",
    "loss_types = data_processor.get_loss_types_list()\n",
    "kd_loss_types = data_processor.get_kd_loss_types_list()\n",
    "tasks_nclass_list = data_processor.get_task_nclass_list()"
   ]
  },
  {
   "cell_type": "code",
   "execution_count": 20,
   "metadata": {
    "execution": {
     "iopub.execute_input": "2022-05-03T15:46:13.820132Z",
     "iopub.status.busy": "2022-05-03T15:46:13.819593Z",
     "iopub.status.idle": "2022-05-03T15:46:13.826213Z",
     "shell.execute_reply": "2022-05-03T15:46:13.825175Z",
     "shell.execute_reply.started": "2022-05-03T15:46:13.820096Z"
    }
   },
   "outputs": [],
   "source": [
    "num_all_batches = data_processor.get_num_all_batches()"
   ]
  },
  {
   "cell_type": "markdown",
   "metadata": {},
   "source": [
    "#### Training the model and making predictions"
   ]
  },
  {
   "cell_type": "code",
   "execution_count": 33,
   "metadata": {
    "execution": {
     "iopub.execute_input": "2022-05-03T16:47:08.490343Z",
     "iopub.status.busy": "2022-05-03T16:47:08.490084Z",
     "iopub.status.idle": "2022-05-03T16:47:16.054832Z",
     "shell.execute_reply": "2022-05-03T16:47:16.054018Z",
     "shell.execute_reply.started": "2022-05-03T16:47:08.490314Z"
    }
   },
   "outputs": [],
   "source": [
    "model = MTDNNModel(\n",
    "    config,\n",
    "    task_defs,\n",
    "    pretrained_model_name=PRE_TRAINED_MODEL_NAME,\n",
    "    num_train_step=num_all_batches,\n",
    "    decoder_opts=decoder_opts,\n",
    "    task_types=task_types,\n",
    "    dropout_list=dropout_list,\n",
    "    loss_types=loss_types,\n",
    "    kd_loss_types=kd_loss_types,\n",
    "    tasks_nclass_list=tasks_nclass_list,\n",
    "    multitask_train_dataloader=multitask_train_dataloader,\n",
    "    dev_dataloaders_list=dev_dataloaders_list,\n",
    "    test_dataloaders_list=test_dataloaders_list,\n",
    "    test_datasets_list=TEST_DATASET_LIST,\n",
    "    output_dir=OUTPUT_DIR,\n",
    "    log_dir=LOG_DIR\n",
    ")"
   ]
  },
  {
   "cell_type": "code",
   "execution_count": 34,
   "metadata": {
    "execution": {
     "iopub.execute_input": "2022-05-03T16:47:16.057377Z",
     "iopub.status.busy": "2022-05-03T16:47:16.056959Z",
     "iopub.status.idle": "2022-05-03T17:13:01.563279Z",
     "shell.execute_reply": "2022-05-03T17:13:01.562532Z",
     "shell.execute_reply.started": "2022-05-03T16:47:16.057337Z"
    }
   },
   "outputs": [],
   "source": [
    "model.fit()"
   ]
  },
  {
   "cell_type": "code",
   "execution_count": 35,
   "metadata": {
    "execution": {
     "iopub.execute_input": "2022-05-03T17:13:01.566129Z",
     "iopub.status.busy": "2022-05-03T17:13:01.565605Z",
     "iopub.status.idle": "2022-05-03T17:15:37.174080Z",
     "shell.execute_reply": "2022-05-03T17:15:37.173365Z",
     "shell.execute_reply.started": "2022-05-03T17:13:01.566088Z"
    }
   },
   "outputs": [],
   "source": [
    "for epoch in range(NUM_EPOCHS):\n",
    "    model.predict(trained_model_chckpt=f\"{OUTPUT_DIR}/model_{epoch}.pt\", saved_epoch_idx=f'{epoch}', calc_test_metrics=True)"
   ]
  },
  {
   "cell_type": "markdown",
   "metadata": {},
   "source": [
    "#### Displaying the metrics"
   ]
  },
  {
   "cell_type": "code",
   "execution_count": 36,
   "metadata": {
    "execution": {
     "iopub.execute_input": "2022-05-03T17:15:37.178197Z",
     "iopub.status.busy": "2022-05-03T17:15:37.177961Z",
     "iopub.status.idle": "2022-05-03T17:15:37.296761Z",
     "shell.execute_reply": "2022-05-03T17:15:37.295966Z",
     "shell.execute_reply.started": "2022-05-03T17:15:37.178168Z"
    }
   },
   "outputs": [],
   "source": [
    "cl_results = {}\n",
    "ext_results = {}\n",
    "dev_result_files = list(filter(lambda x: x.endswith('.json') and 'dev' in x, os.listdir(OUTPUT_DIR)))\n",
    "test_result_files = list(filter(lambda x: x.endswith('.json') and 'test' in x, os.listdir(OUTPUT_DIR)))\n",
    "\n",
    "for d in dev_result_files: \n",
    "    name =  ' '.join(list(map(str.capitalize, d.split('_')))[:2])\n",
    "    epoch = d.split('.')[0].split('_')[-1]\n",
    "    file_name = os.path.join(OUTPUT_DIR, d)\n",
    "    with open(file_name, 'r') as f: \n",
    "        res = json.load(f)\n",
    "        for metric in res['metrics']:\n",
    "            name_and_metric = ' '.join([name, metric])\n",
    "            if 'Cl' in name:\n",
    "                if name_and_metric not in cl_results:\n",
    "                    cl_results[name_and_metric] = dict()\n",
    "                cl_results[name_and_metric].update({f'Epoch {epoch}': f\"{res['metrics'][metric]:.3f}\"})\n",
    "            elif 'Ext' in name:\n",
    "                if name_and_metric not in ext_results:\n",
    "                    ext_results[name_and_metric] = dict()    \n",
    "                ext_results[name_and_metric].update({f'Epoch {epoch}': res['metrics'][metric]})\n",
    "        \n",
    "for d in test_result_files: \n",
    "    name =  ' '.join(list(map(str.capitalize, d.split('_')))[:2])\n",
    "    epoch = d.split('.')[0].split('_')[-1]\n",
    "    file_name = os.path.join(OUTPUT_DIR, d)\n",
    "    with open(file_name, 'r') as f: \n",
    "        res = json.load(f)\n",
    "        for metric in res['metrics']:\n",
    "            name_and_metric = ' '.join([name, metric])\n",
    "            if 'Cl' in name:\n",
    "                if name_and_metric not in cl_results:\n",
    "                    cl_results[name_and_metric] = dict()\n",
    "                cl_results[name_and_metric].update({f'Epoch {epoch}': f\"{res['metrics'][metric]:.3f}\"})\n",
    "            elif 'Ext' in name:\n",
    "                if name_and_metric not in ext_results:\n",
    "                    ext_results[name_and_metric] = dict()    \n",
    "                ext_results[name_and_metric].update({f'Epoch {epoch}': res['metrics'][metric]})\n",
    "        \n",
    "cl_results = pd.DataFrame(cl_results)   \n",
    "cl_results"
   ]
  },
  {
   "cell_type": "code",
   "execution_count": 37,
   "metadata": {
    "execution": {
     "iopub.execute_input": "2022-05-03T17:15:37.302981Z",
     "iopub.status.busy": "2022-05-03T17:15:37.300945Z",
     "iopub.status.idle": "2022-05-03T17:15:37.311003Z",
     "shell.execute_reply": "2022-05-03T17:15:37.310274Z",
     "shell.execute_reply.started": "2022-05-03T17:15:37.302937Z"
    }
   },
   "outputs": [],
   "source": [
    "for n_and_m, epochs in ext_results.items():\n",
    "    print(n_and_m)\n",
    "    for epoch, data in sorted(epochs.items()):\n",
    "        print(epoch)\n",
    "        print(data)"
   ]
  },
  {
   "cell_type": "code",
   "execution_count": 38,
   "metadata": {
    "execution": {
     "iopub.execute_input": "2022-05-03T17:15:37.316193Z",
     "iopub.status.busy": "2022-05-03T17:15:37.312185Z",
     "iopub.status.idle": "2022-05-03T17:15:37.323646Z",
     "shell.execute_reply": "2022-05-03T17:15:37.322537Z",
     "shell.execute_reply.started": "2022-05-03T17:15:37.316155Z"
    }
   },
   "outputs": [],
   "source": [
    "!rm -r result"
   ]
  }
 ],
 "metadata": {
  "kernelspec": {
   "display_name": "Python 3 (ipykernel)",
   "language": "python",
   "name": "python3"
  },
  "language_info": {
   "codemirror_mode": {
    "name": "ipython",
    "version": 3
   },
   "file_extension": ".py",
   "mimetype": "text/x-python",
   "name": "python",
   "nbconvert_exporter": "python",
   "pygments_lexer": "ipython3",
   "version": "3.8.5"
  }
 },
 "nbformat": 4,
 "nbformat_minor": 4
}
