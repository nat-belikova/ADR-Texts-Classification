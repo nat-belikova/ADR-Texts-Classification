{
 "cells": [
  {
   "cell_type": "code",
   "execution_count": 5,
   "id": "60d6f401",
   "metadata": {
    "scrolled": true
   },
   "outputs": [],
   "source": [
    "import pandas as pd\n",
    "import numpy as np\n",
    "import random\n",
    "import re\n",
    "import pymorphy2\n",
    "\n",
    "random.seed(1)"
   ]
  },
  {
   "cell_type": "code",
   "execution_count": 1,
   "id": "27d1b1d6",
   "metadata": {},
   "outputs": [],
   "source": [
    "from sklearn.model_selection import cross_validate\n",
    "from sklearn.metrics import precision_score, recall_score, f1_score, roc_auc_score\n",
    "from sklearn.linear_model import LogisticRegression\n",
    "from sklearn.pipeline import Pipeline\n",
    "from sklearn.feature_extraction.text import TfidfVectorizer\n",
    "from sklearn.utils import shuffle"
   ]
  },
  {
   "cell_type": "code",
   "execution_count": 3,
   "id": "0ab24c2f",
   "metadata": {},
   "outputs": [],
   "source": [
    "train = pd.read_csv('orig_datasets/classification/train.tsv', sep='\\t', index_col='tweet_id')\n",
    "valid = pd.read_csv('orig_datasets/classification/valid.tsv', sep='\\t', index_col='tweet_id')"
   ]
  },
  {
   "cell_type": "markdown",
   "id": "116788c9",
   "metadata": {},
   "source": [
    "#### Datasets size"
   ]
  },
  {
   "cell_type": "code",
   "execution_count": 4,
   "id": "1ee5ebc5",
   "metadata": {},
   "outputs": [
    {
     "data": {
      "text/plain": [
       "17270"
      ]
     },
     "execution_count": 4,
     "metadata": {},
     "output_type": "execute_result"
    }
   ],
   "source": [
    "train.shape[0]"
   ]
  },
  {
   "cell_type": "code",
   "execution_count": 5,
   "id": "1c1b0e88",
   "metadata": {},
   "outputs": [
    {
     "data": {
      "text/plain": [
       "0    15735\n",
       "1     1535\n",
       "Name: label, dtype: int64"
      ]
     },
     "execution_count": 5,
     "metadata": {},
     "output_type": "execute_result"
    }
   ],
   "source": [
    "train['label'].value_counts()"
   ]
  },
  {
   "cell_type": "code",
   "execution_count": 6,
   "id": "89de15d4",
   "metadata": {},
   "outputs": [
    {
     "data": {
      "text/plain": [
       "3425"
      ]
     },
     "execution_count": 6,
     "metadata": {},
     "output_type": "execute_result"
    }
   ],
   "source": [
    "valid.shape[0]"
   ]
  },
  {
   "cell_type": "code",
   "execution_count": 7,
   "id": "9620e104",
   "metadata": {},
   "outputs": [
    {
     "data": {
      "text/plain": [
       "0    3126\n",
       "1     299\n",
       "Name: label, dtype: int64"
      ]
     },
     "execution_count": 7,
     "metadata": {},
     "output_type": "execute_result"
    }
   ],
   "source": [
    "valid['label'].value_counts()"
   ]
  },
  {
   "cell_type": "markdown",
   "id": "029be2a4",
   "metadata": {},
   "source": [
    "#### Tweet preprocessing"
   ]
  },
  {
   "cell_type": "code",
   "execution_count": 9,
   "id": "a6a8d241",
   "metadata": {},
   "outputs": [],
   "source": [
    "def normalize_tweet(tweet):\n",
    "    tweet_norm = re.sub(r'(\\xa0|\\u200a|\\u2028|\\u3000)', ' ', tweet)\n",
    "    tweet_norm = re.sub(r'\\xad', '', tweet_norm)\n",
    "    tweet_norm = re.sub(r'&amp;', '&', tweet_norm)\n",
    "    tweet_norm = re.sub(r'&gt;', '>', tweet_norm)\n",
    "    tweet_norm = re.sub(r'&lt;', '<', tweet_norm)\n",
    "    tweet_norm = re.sub(r'&quot;', '\"', tweet_norm)\n",
    "    tweet_norm = re.sub(r'&laquo;', '«', tweet_norm)\n",
    "    tweet_norm = re.sub(r'&raquo;', '»', tweet_norm)\n",
    "    tweet_norm = re.sub(r'&#8230;', '...', tweet_norm)\n",
    "    tweet_norm = re.sub(r'&#13;', ' ', tweet_norm)\n",
    "    tweet_norm = re.sub(r'@\\w+', '@username', tweet_norm)\n",
    "    tweet_norm = re.sub(r'https://t.co/[\\w\\d]+', 'https', tweet_norm)\n",
    "    return tweet_norm"
   ]
  },
  {
   "cell_type": "code",
   "execution_count": 10,
   "id": "bba3461a",
   "metadata": {},
   "outputs": [],
   "source": [
    "def tokenize_tweet(tweet):\n",
    "    tweet_tok = re.findall(r'@username|#[\\w\\d]+|[^\\W\\d_]+|[0-9]+', tweet)\n",
    "    return ' '.join(tweet_tok)"
   ]
  },
  {
   "cell_type": "code",
   "execution_count": 11,
   "id": "86e906a3",
   "metadata": {},
   "outputs": [],
   "source": [
    "morph = pymorphy2.MorphAnalyzer()"
   ]
  },
  {
   "cell_type": "code",
   "execution_count": 12,
   "id": "6a4cf2eb",
   "metadata": {},
   "outputs": [],
   "source": [
    "def normalize_tokens(tweet):\n",
    "    tokens_norm = []\n",
    "    for token in tweet.split():\n",
    "        if not token.startswith(('@', '#')):\n",
    "            tokens_norm.append(morph.parse(token)[0].normal_form)\n",
    "        else:\n",
    "            tokens_norm.append(token)\n",
    "    return ' '.join(tokens_norm)"
   ]
  },
  {
   "cell_type": "code",
   "execution_count": 13,
   "id": "c606eb83",
   "metadata": {},
   "outputs": [],
   "source": [
    "def prep_tweet(tweet):\n",
    "    prep_tweet = normalize_tweet(tweet)\n",
    "    prep_tweet = tokenize_tweet(prep_tweet)\n",
    "    prep_tweet = normalize_tokens(prep_tweet)\n",
    "    return prep_tweet"
   ]
  },
  {
   "cell_type": "code",
   "execution_count": 14,
   "id": "a13872f3",
   "metadata": {},
   "outputs": [],
   "source": [
    "train['prep_tweet'] = train['tweet'].apply(lambda x: prep_tweet(x))\n",
    "valid['prep_tweet'] = valid['tweet'].apply(lambda x: prep_tweet(x))"
   ]
  },
  {
   "cell_type": "markdown",
   "id": "3a454985",
   "metadata": {},
   "source": [
    "#### Train and valid"
   ]
  },
  {
   "cell_type": "code",
   "execution_count": 23,
   "id": "44c9668c",
   "metadata": {},
   "outputs": [],
   "source": [
    "train = shuffle(train)"
   ]
  },
  {
   "cell_type": "code",
   "execution_count": 15,
   "id": "6e3d421b",
   "metadata": {},
   "outputs": [],
   "source": [
    "X = train['prep_tweet']\n",
    "y = train['label']"
   ]
  },
  {
   "cell_type": "code",
   "execution_count": 25,
   "id": "37e3e4b7",
   "metadata": {},
   "outputs": [],
   "source": [
    "X_valid = valid['prep_tweet']\n",
    "y_valid = valid['label']"
   ]
  },
  {
   "cell_type": "markdown",
   "id": "09da0692",
   "metadata": {},
   "source": [
    "#### Train Dataset Cross validation"
   ]
  },
  {
   "cell_type": "code",
   "execution_count": 26,
   "id": "ec79842a",
   "metadata": {},
   "outputs": [],
   "source": [
    "pipeline = Pipeline([('tfidf', TfidfVectorizer(token_pattern=r'@username|#[\\w\\d]+|[^\\W\\d_]+|[0-9]+')),\n",
    "                    ('logreg', LogisticRegression(class_weight='balanced', random_state=1))])"
   ]
  },
  {
   "cell_type": "code",
   "execution_count": 52,
   "id": "887828cd",
   "metadata": {},
   "outputs": [
    {
     "name": "stderr",
     "output_type": "stream",
     "text": [
      "[Parallel(n_jobs=6)]: Using backend LokyBackend with 6 concurrent workers.\n",
      "[Parallel(n_jobs=6)]: Done   5 out of   5 | elapsed:    3.7s finished\n"
     ]
    }
   ],
   "source": [
    "scores = cross_validate(pipeline, X, y, cv=5, n_jobs=6, scoring=['f1', 'precision', 'recall', 'roc_auc'], return_train_score=True, verbose=1)"
   ]
  },
  {
   "cell_type": "code",
   "execution_count": 53,
   "id": "97ea6f42",
   "metadata": {},
   "outputs": [],
   "source": [
    "scores_train = pd.DataFrame(scores, columns=['train_f1', 'train_precision', 'train_recall', 'train_roc_auc'])\n",
    "scores_test = pd.DataFrame(scores, columns=['test_f1', 'test_precision', 'test_recall', 'test_roc_auc'])"
   ]
  },
  {
   "cell_type": "code",
   "execution_count": 54,
   "id": "d944f68d",
   "metadata": {},
   "outputs": [
    {
     "data": {
      "text/html": [
       "<div>\n",
       "<style scoped>\n",
       "    .dataframe tbody tr th:only-of-type {\n",
       "        vertical-align: middle;\n",
       "    }\n",
       "\n",
       "    .dataframe tbody tr th {\n",
       "        vertical-align: top;\n",
       "    }\n",
       "\n",
       "    .dataframe thead th {\n",
       "        text-align: right;\n",
       "    }\n",
       "</style>\n",
       "<table border=\"1\" class=\"dataframe\">\n",
       "  <thead>\n",
       "    <tr style=\"text-align: right;\">\n",
       "      <th></th>\n",
       "      <th>mean</th>\n",
       "      <th>std</th>\n",
       "    </tr>\n",
       "  </thead>\n",
       "  <tbody>\n",
       "    <tr>\n",
       "      <th>train_f1</th>\n",
       "      <td>0.589456</td>\n",
       "      <td>0.004133</td>\n",
       "    </tr>\n",
       "    <tr>\n",
       "      <th>train_precision</th>\n",
       "      <td>0.425703</td>\n",
       "      <td>0.004034</td>\n",
       "    </tr>\n",
       "    <tr>\n",
       "      <th>train_recall</th>\n",
       "      <td>0.957980</td>\n",
       "      <td>0.002797</td>\n",
       "    </tr>\n",
       "    <tr>\n",
       "      <th>train_roc_auc</th>\n",
       "      <td>0.964311</td>\n",
       "      <td>0.000717</td>\n",
       "    </tr>\n",
       "  </tbody>\n",
       "</table>\n",
       "</div>"
      ],
      "text/plain": [
       "                     mean       std\n",
       "train_f1         0.589456  0.004133\n",
       "train_precision  0.425703  0.004034\n",
       "train_recall     0.957980  0.002797\n",
       "train_roc_auc    0.964311  0.000717"
      ]
     },
     "execution_count": 54,
     "metadata": {},
     "output_type": "execute_result"
    }
   ],
   "source": [
    "info_train = pd.concat([scores_train.mean(), scores_train.std()], axis=1)\n",
    "info_train.columns = ['mean', 'std']\n",
    "info_train"
   ]
  },
  {
   "cell_type": "code",
   "execution_count": 55,
   "id": "5e296aed",
   "metadata": {},
   "outputs": [
    {
     "data": {
      "text/html": [
       "<div>\n",
       "<style scoped>\n",
       "    .dataframe tbody tr th:only-of-type {\n",
       "        vertical-align: middle;\n",
       "    }\n",
       "\n",
       "    .dataframe tbody tr th {\n",
       "        vertical-align: top;\n",
       "    }\n",
       "\n",
       "    .dataframe thead th {\n",
       "        text-align: right;\n",
       "    }\n",
       "</style>\n",
       "<table border=\"1\" class=\"dataframe\">\n",
       "  <thead>\n",
       "    <tr style=\"text-align: right;\">\n",
       "      <th></th>\n",
       "      <th>mean</th>\n",
       "      <th>std</th>\n",
       "    </tr>\n",
       "  </thead>\n",
       "  <tbody>\n",
       "    <tr>\n",
       "      <th>test_f1</th>\n",
       "      <td>0.295331</td>\n",
       "      <td>0.014107</td>\n",
       "    </tr>\n",
       "    <tr>\n",
       "      <th>test_precision</th>\n",
       "      <td>0.212284</td>\n",
       "      <td>0.009762</td>\n",
       "    </tr>\n",
       "    <tr>\n",
       "      <th>test_recall</th>\n",
       "      <td>0.485342</td>\n",
       "      <td>0.027543</td>\n",
       "    </tr>\n",
       "    <tr>\n",
       "      <th>test_roc_auc</th>\n",
       "      <td>0.740676</td>\n",
       "      <td>0.012688</td>\n",
       "    </tr>\n",
       "  </tbody>\n",
       "</table>\n",
       "</div>"
      ],
      "text/plain": [
       "                    mean       std\n",
       "test_f1         0.295331  0.014107\n",
       "test_precision  0.212284  0.009762\n",
       "test_recall     0.485342  0.027543\n",
       "test_roc_auc    0.740676  0.012688"
      ]
     },
     "execution_count": 55,
     "metadata": {},
     "output_type": "execute_result"
    }
   ],
   "source": [
    "info_test = pd.concat([scores_test.mean(), scores_test.std()], axis=1)\n",
    "info_test.columns = ['mean', 'std']\n",
    "info_test"
   ]
  },
  {
   "cell_type": "markdown",
   "id": "5ffb4948",
   "metadata": {},
   "source": [
    "#### Valid Dataset Predictions"
   ]
  },
  {
   "cell_type": "code",
   "execution_count": 16,
   "id": "85a6b5e4",
   "metadata": {},
   "outputs": [],
   "source": [
    "pipeline = Pipeline([('tfidf', TfidfVectorizer(token_pattern=r'@username|#[\\w\\d]+|[^\\W\\d_]+|[0-9]+')),\n",
    "                    ('logreg', LogisticRegression(class_weight='balanced', random_state=1))])"
   ]
  },
  {
   "cell_type": "code",
   "execution_count": 17,
   "id": "48a2b8e0",
   "metadata": {},
   "outputs": [
    {
     "data": {
      "text/plain": [
       "Pipeline(steps=[('tfidf',\n",
       "                 TfidfVectorizer(token_pattern='@username|#[\\\\w\\\\d]+|[^\\\\W\\\\d_]+|[0-9]+')),\n",
       "                ('logreg',\n",
       "                 LogisticRegression(class_weight='balanced', random_state=1))])"
      ]
     },
     "execution_count": 17,
     "metadata": {},
     "output_type": "execute_result"
    }
   ],
   "source": [
    "pipeline.fit(X, y)"
   ]
  },
  {
   "cell_type": "code",
   "execution_count": 170,
   "id": "38953707",
   "metadata": {},
   "outputs": [],
   "source": [
    "pred_train = pipeline.predict(X)\n",
    "pred_train_proba = pipeline.predict_proba(X)\n",
    "pred_valid = pipeline.predict(X_valid)\n",
    "pred_valid_proba = pipeline.predict_proba(X_valid)"
   ]
  },
  {
   "cell_type": "code",
   "execution_count": 171,
   "id": "c913d269",
   "metadata": {},
   "outputs": [
    {
     "name": "stdout",
     "output_type": "stream",
     "text": [
      "train\n",
      "0.9066391755138289\n",
      "\n",
      "valid\n",
      "0.7099790943152372\n",
      "\n"
     ]
    }
   ],
   "source": [
    "results_proba = [('train', y, pred_train_proba[:, 1]),\n",
    "          ('valid', y_valid, pred_valid_proba[:, 1])]\n",
    "\n",
    "for dataset, y_true, y_pred_proba in results:\n",
    "    print(dataset)\n",
    "    print(roc_auc_score(y_true, y_pred_proba))\n",
    "    print()"
   ]
  },
  {
   "cell_type": "code",
   "execution_count": 172,
   "id": "f31aafa0",
   "metadata": {},
   "outputs": [
    {
     "name": "stdout",
     "output_type": "stream",
     "text": [
      "train\n",
      "0.5696945967110415\n",
      "0.4072208228379513\n",
      "0.9478827361563518\n",
      "\n",
      "valid\n",
      "0.30839002267573695\n",
      "0.19921875\n",
      "0.6822742474916388\n",
      "\n"
     ]
    }
   ],
   "source": [
    "results = [('train', y, pred_train),\n",
    "          ('valid', y_valid, pred_valid)]\n",
    "\n",
    "for dataset, y_true, y_pred in results:\n",
    "    print(dataset)\n",
    "    print(f1_score(y_true, y_pred))\n",
    "    print(precision_score(y_true, y_pred))\n",
    "    print(recall_score(y_true, y_pred))\n",
    "    print()"
   ]
  },
  {
   "cell_type": "code",
   "execution_count": 218,
   "id": "d513c074",
   "metadata": {},
   "outputs": [],
   "source": [
    "thres_train = (pred_train_proba[:, 1] >= 0.6).astype(int)\n",
    "thres_valid = (pred_valid_proba[:, 1] >= 0.6).astype(int)"
   ]
  },
  {
   "cell_type": "code",
   "execution_count": 219,
   "id": "0dd84d31",
   "metadata": {
    "scrolled": true
   },
   "outputs": [
    {
     "name": "stdout",
     "output_type": "stream",
     "text": [
      "train\n",
      "0.662703540966658\n",
      "0.5492716366752356\n",
      "0.8351791530944626\n",
      "\n",
      "valid\n",
      "0.34334763948497854\n",
      "0.2527646129541864\n",
      "0.5351170568561873\n",
      "\n"
     ]
    }
   ],
   "source": [
    "results = [('train', y, thres_train),\n",
    "          ('valid', y_valid, thres_valid)]\n",
    "\n",
    "for dataset, y_true, y_pred in results:\n",
    "    print(dataset)\n",
    "    print(f1_score(y_true, y_pred))\n",
    "    print(precision_score(y_true, y_pred))\n",
    "    print(recall_score(y_true, y_pred))\n",
    "    print()"
   ]
  },
  {
   "cell_type": "markdown",
   "id": "df658a5b",
   "metadata": {},
   "source": [
    "#### Confusion Matrix"
   ]
  },
  {
   "cell_type": "code",
   "execution_count": 8,
   "id": "6ff3315b",
   "metadata": {},
   "outputs": [],
   "source": [
    "from sklearn.metrics import ConfusionMatrixDisplay"
   ]
  },
  {
   "cell_type": "code",
   "execution_count": 9,
   "id": "af8e57eb",
   "metadata": {},
   "outputs": [
    {
     "data": {
      "text/plain": [
       "<sklearn.metrics._plot.confusion_matrix.ConfusionMatrixDisplay at 0x1bd3d4a8df0>"
      ]
     },
     "execution_count": 9,
     "metadata": {},
     "output_type": "execute_result"
    },
    {
     "data": {
      "image/png": "[encoded data removed]",
      "text/plain": [
       "<Figure size 432x288 with 2 Axes>"
      ]
     },
     "metadata": {
      "needs_background": "light"
     },
     "output_type": "display_data"
    }
   ],
   "source": [
    "ConfusionMatrixDisplay.from_predictions(y_true, y_pred)"
   ]
  }
 ],
 "metadata": {
  "kernelspec": {
   "display_name": "Python 3 (ipykernel)",
   "language": "python",
   "name": "python3"
  },
  "language_info": {
   "codemirror_mode": {
    "name": "ipython",
    "version": 3
   },
   "file_extension": ".py",
   "mimetype": "text/x-python",
   "name": "python",
   "nbconvert_exporter": "python",
   "pygments_lexer": "ipython3",
   "version": "3.8.5"
  }
 },
 "nbformat": 4,
 "nbformat_minor": 5
}
